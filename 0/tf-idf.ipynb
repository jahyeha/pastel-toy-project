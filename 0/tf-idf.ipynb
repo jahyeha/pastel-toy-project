{
 "cells": [
  {
   "cell_type": "markdown",
   "metadata": {},
   "source": [
    "## TF-IDF \n",
    "### (Term Frequency-Inverse Document Frequency)\n",
    "----------------------------------"
   ]
  },
  {
   "cell_type": "code",
   "execution_count": 4,
   "metadata": {},
   "outputs": [],
   "source": [
    "#---EXAMPLE---#\n",
    "docA = \"The cat sat on my face\"\n",
    "docB = \"The dog sat on my bed\""
   ]
  },
  {
   "cell_type": "code",
   "execution_count": 5,
   "metadata": {},
   "outputs": [
    {
     "name": "stdout",
     "output_type": "stream",
     "text": [
      "['The', 'cat', 'sat', 'on', 'my', 'face']\n"
     ]
    }
   ],
   "source": [
    "bowA = docA.split(\" \")\n",
    "bowB = docB.split(\" \")"
   ]
  },
  {
   "cell_type": "code",
   "execution_count": 8,
   "metadata": {
    "scrolled": true
   },
   "outputs": [
    {
     "name": "stdout",
     "output_type": "stream",
     "text": [
      "{'my', 'face', 'cat', 'on', 'sat', 'The'}\n",
      "{'bed', 'my', 'dog', 'on', 'sat', 'The'}\n"
     ]
    }
   ],
   "source": [
    "print(set(bowA))\n",
    "print(set(bowB))"
   ]
  },
  {
   "cell_type": "code",
   "execution_count": 11,
   "metadata": {},
   "outputs": [
    {
     "name": "stdout",
     "output_type": "stream",
     "text": [
      "{'bed', 'my', 'face', 'dog', 'cat', 'on', 'sat', 'The'}\n"
     ]
    }
   ],
   "source": [
    "word_set = set(bowA).union(set(bowB))\n",
    "print(word_set)"
   ]
  },
  {
   "cell_type": "code",
   "execution_count": 12,
   "metadata": {},
   "outputs": [],
   "source": [
    "# dict.fromkeys(keys, value)\n",
    "    # keys: keys of the new dict (required)\n",
    "    # value: the value of all keys (optional; deflt value == None)\n",
    "\n",
    "    # key가 word_set, value가 각각 0인 dictionary 생성!\n",
    "    # ㄴ{'dog': 0, 'The': 0, 'bed': 0, 'cat': 0, 'face': 0, 'my': 0, 'on': 0, 'sat': 0}\n",
    "word_dictA = dict.fromkeys(word_set, 0) \n",
    "word_dictB = dict.fromkeys(word_set, 0)"
   ]
  },
  {
   "cell_type": "code",
   "execution_count": 14,
   "metadata": {},
   "outputs": [
    {
     "name": "stdout",
     "output_type": "stream",
     "text": [
      "{'bed': 0, 'my': 0, 'face': 0, 'dog': 0, 'cat': 0, 'on': 0, 'sat': 0, 'The': 0}\n",
      "{'bed': 0, 'my': 0, 'face': 0, 'dog': 0, 'cat': 0, 'on': 0, 'sat': 0, 'The': 0}\n"
     ]
    }
   ],
   "source": [
    "print(word_dictA)\n",
    "print(word_dictB)"
   ]
  },
  {
   "cell_type": "code",
   "execution_count": 15,
   "metadata": {},
   "outputs": [],
   "source": [
    "for word in bowA:\n",
    "    word_dictA[word] += 1\n",
    "for word in bowB:\n",
    "    word_dictB[word] += 1"
   ]
  },
  {
   "cell_type": "code",
   "execution_count": 17,
   "metadata": {},
   "outputs": [
    {
     "name": "stdout",
     "output_type": "stream",
     "text": [
      "{'bed': 0, 'my': 1, 'face': 1, 'dog': 0, 'cat': 1, 'on': 1, 'sat': 1, 'The': 1}\n",
      "{'bed': 1, 'my': 1, 'face': 0, 'dog': 1, 'cat': 0, 'on': 1, 'sat': 1, 'The': 1}\n"
     ]
    }
   ],
   "source": [
    "print(word_dictA)\n",
    "print(word_dictB)"
   ]
  },
  {
   "cell_type": "code",
   "execution_count": 18,
   "metadata": {},
   "outputs": [
    {
     "data": {
      "text/html": [
       "<div>\n",
       "<style scoped>\n",
       "    .dataframe tbody tr th:only-of-type {\n",
       "        vertical-align: middle;\n",
       "    }\n",
       "\n",
       "    .dataframe tbody tr th {\n",
       "        vertical-align: top;\n",
       "    }\n",
       "\n",
       "    .dataframe thead th {\n",
       "        text-align: right;\n",
       "    }\n",
       "</style>\n",
       "<table border=\"1\" class=\"dataframe\">\n",
       "  <thead>\n",
       "    <tr style=\"text-align: right;\">\n",
       "      <th></th>\n",
       "      <th>The</th>\n",
       "      <th>bed</th>\n",
       "      <th>cat</th>\n",
       "      <th>dog</th>\n",
       "      <th>face</th>\n",
       "      <th>my</th>\n",
       "      <th>on</th>\n",
       "      <th>sat</th>\n",
       "    </tr>\n",
       "  </thead>\n",
       "  <tbody>\n",
       "    <tr>\n",
       "      <th>0</th>\n",
       "      <td>1</td>\n",
       "      <td>0</td>\n",
       "      <td>1</td>\n",
       "      <td>0</td>\n",
       "      <td>1</td>\n",
       "      <td>1</td>\n",
       "      <td>1</td>\n",
       "      <td>1</td>\n",
       "    </tr>\n",
       "    <tr>\n",
       "      <th>1</th>\n",
       "      <td>1</td>\n",
       "      <td>1</td>\n",
       "      <td>0</td>\n",
       "      <td>1</td>\n",
       "      <td>0</td>\n",
       "      <td>1</td>\n",
       "      <td>1</td>\n",
       "      <td>1</td>\n",
       "    </tr>\n",
       "  </tbody>\n",
       "</table>\n",
       "</div>"
      ],
      "text/plain": [
       "   The  bed  cat  dog  face  my  on  sat\n",
       "0    1    0    1    0     1   1   1    1\n",
       "1    1    1    0    1     0   1   1    1"
      ]
     },
     "execution_count": 18,
     "metadata": {},
     "output_type": "execute_result"
    }
   ],
   "source": [
    "import pandas as pd\n",
    "pd.DataFrame([word_dictA, word_dictB])"
   ]
  },
  {
   "cell_type": "markdown",
   "metadata": {},
   "source": [
    "----------------------------------\n",
    "### Term Frequency (TF) \n",
    " \n",
    " * 비율 계산: 단어 빈도 수 / 문서에 포함된 총 단어 수"
   ]
  },
  {
   "cell_type": "code",
   "execution_count": 19,
   "metadata": {},
   "outputs": [
    {
     "name": "stdout",
     "output_type": "stream",
     "text": [
      "\n",
      "해당 문서에 포함된 총 단어 수:  6\n",
      "  bed \t0 / 6.0 = 0.0\n",
      "  my \t1 / 6.0 = 0.16666666666666666\n",
      "  face \t1 / 6.0 = 0.16666666666666666\n",
      "  dog \t0 / 6.0 = 0.0\n",
      "  cat \t1 / 6.0 = 0.16666666666666666\n",
      "  on \t1 / 6.0 = 0.16666666666666666\n",
      "  sat \t1 / 6.0 = 0.16666666666666666\n",
      "  The \t1 / 6.0 = 0.16666666666666666\n",
      "\n",
      "해당 문서에 포함된 총 단어 수:  6\n",
      "  bed \t1 / 6.0 = 0.16666666666666666\n",
      "  my \t1 / 6.0 = 0.16666666666666666\n",
      "  face \t0 / 6.0 = 0.0\n",
      "  dog \t1 / 6.0 = 0.16666666666666666\n",
      "  cat \t0 / 6.0 = 0.0\n",
      "  on \t1 / 6.0 = 0.16666666666666666\n",
      "  sat \t1 / 6.0 = 0.16666666666666666\n",
      "  The \t1 / 6.0 = 0.16666666666666666\n"
     ]
    }
   ],
   "source": [
    "def computeTF(word_dict, bow):\n",
    "    tf_dict = {}\n",
    "    bow_count = len(bow)\n",
    "    print(\"\\n해당 문서에 포함된 총 단어 수: \", bow_count)\n",
    "    for word, count in word_dict.items():\n",
    "        tf_dict[word] = count / float(bow_count)\n",
    "        print(\"  {} \\t{} / {} = {}\".format(word, count, float(bow_count), tf_dict[word]))\n",
    "    return tf_dict\n",
    "\n",
    "tfBowA = computeTF(word_dictA, bowA)\n",
    "tfBowB = computeTF(word_dictB, bowB)"
   ]
  },
  {
   "cell_type": "code",
   "execution_count": 20,
   "metadata": {},
   "outputs": [
    {
     "data": {
      "text/html": [
       "<div>\n",
       "<style scoped>\n",
       "    .dataframe tbody tr th:only-of-type {\n",
       "        vertical-align: middle;\n",
       "    }\n",
       "\n",
       "    .dataframe tbody tr th {\n",
       "        vertical-align: top;\n",
       "    }\n",
       "\n",
       "    .dataframe thead th {\n",
       "        text-align: right;\n",
       "    }\n",
       "</style>\n",
       "<table border=\"1\" class=\"dataframe\">\n",
       "  <thead>\n",
       "    <tr style=\"text-align: right;\">\n",
       "      <th></th>\n",
       "      <th>The</th>\n",
       "      <th>bed</th>\n",
       "      <th>cat</th>\n",
       "      <th>dog</th>\n",
       "      <th>face</th>\n",
       "      <th>my</th>\n",
       "      <th>on</th>\n",
       "      <th>sat</th>\n",
       "    </tr>\n",
       "  </thead>\n",
       "  <tbody>\n",
       "    <tr>\n",
       "      <th>0</th>\n",
       "      <td>0.166667</td>\n",
       "      <td>0.000000</td>\n",
       "      <td>0.166667</td>\n",
       "      <td>0.000000</td>\n",
       "      <td>0.166667</td>\n",
       "      <td>0.166667</td>\n",
       "      <td>0.166667</td>\n",
       "      <td>0.166667</td>\n",
       "    </tr>\n",
       "    <tr>\n",
       "      <th>1</th>\n",
       "      <td>0.166667</td>\n",
       "      <td>0.166667</td>\n",
       "      <td>0.000000</td>\n",
       "      <td>0.166667</td>\n",
       "      <td>0.000000</td>\n",
       "      <td>0.166667</td>\n",
       "      <td>0.166667</td>\n",
       "      <td>0.166667</td>\n",
       "    </tr>\n",
       "  </tbody>\n",
       "</table>\n",
       "</div>"
      ],
      "text/plain": [
       "        The       bed       cat       dog      face        my        on  \\\n",
       "0  0.166667  0.000000  0.166667  0.000000  0.166667  0.166667  0.166667   \n",
       "1  0.166667  0.166667  0.000000  0.166667  0.000000  0.166667  0.166667   \n",
       "\n",
       "        sat  \n",
       "0  0.166667  \n",
       "1  0.166667  "
      ]
     },
     "execution_count": 20,
     "metadata": {},
     "output_type": "execute_result"
    }
   ],
   "source": [
    "pd.DataFrame([tfBowA, tfBowB])"
   ]
  },
  {
   "cell_type": "markdown",
   "metadata": {},
   "source": [
    "----------------------------------\n",
    "### Inverse Document Frequency (IDF)"
   ]
  },
  {
   "cell_type": "code",
   "execution_count": 151,
   "metadata": {},
   "outputs": [],
   "source": [
    "import math\n",
    "\n",
    "def computeIDF(doc_list):\n",
    "    ''' doc_list\n",
    "     [{'dog': 0, 'The': 1, 'bed': 0, 'cat': 1, 'face': 1, my': 1, 'on': 1, 'sat': 1}, \n",
    "      {'dog': 1, 'The': 1, 'bed': 1, 'cat': 0, 'face': 0, 'my': 1, 'on': 1, 'sat': 1}]\n",
    "    '''\n",
    "    # 1. Document Frequency (DF)\n",
    "    idf_dict = {}\n",
    "    N = len(doc_list) # N == 2\n",
    "    idf_dict = dict.fromkeys(doc_list[0].keys(), 0)\n",
    "    # ㄴ {'dog': 0, 'The': 0, 'bed': 0, 'cat': 0, \n",
    "    #     'face': 0, 'my': 0, 'on': 0, 'sat': 0}\n",
    "    \n",
    "    for doc in doc_list:\n",
    "        for word, val in doc.items():\n",
    "            if val > 0:\n",
    "                idf_dict[word] += 1       \n",
    "    # idf_dict == {'dog': 1, 'The': 2, 'bed': 1, 'cat': 1, \n",
    "    #              'face': 1, 'my': 2, 'on': 2, 'sat': 2}\n",
    "    print('DF 결과: \\n', idf_dict)\n",
    "    \n",
    "    # 2. Inverse Document Frequncy (IDF) : log\n",
    "    print(\"\\n--------------------------------------\")\n",
    "    for word, val in idf_dict.items():\n",
    "        idf_dict[word] = math.log(N / float(val))\n",
    "        print(\"  {} \\tlog({}/{}) = {}\".format(word, N, float(val), idf_dict[word]))\n",
    "    print(\"--------------------------------------\")\n",
    "    return idf_dict"
   ]
  },
  {
   "cell_type": "code",
   "execution_count": 152,
   "metadata": {},
   "outputs": [
    {
     "name": "stdout",
     "output_type": "stream",
     "text": [
      "DF 결과: \n",
      " {'dog': 1, 'The': 2, 'bed': 1, 'cat': 1, 'face': 1, 'my': 2, 'on': 2, 'sat': 2}\n",
      "\n",
      "--------------------------------------\n",
      "  dog \tlog(2/1.0) = 0.6931471805599453\n",
      "  The \tlog(2/2.0) = 0.0\n",
      "  bed \tlog(2/1.0) = 0.6931471805599453\n",
      "  cat \tlog(2/1.0) = 0.6931471805599453\n",
      "  face \tlog(2/1.0) = 0.6931471805599453\n",
      "  my \tlog(2/2.0) = 0.0\n",
      "  on \tlog(2/2.0) = 0.0\n",
      "  sat \tlog(2/2.0) = 0.0\n",
      "--------------------------------------\n",
      "\n",
      " IDF 결과:\n",
      " {'dog': 0.6931471805599453, 'The': 0.0, 'bed': 0.6931471805599453, 'cat': 0.6931471805599453, 'face': 0.6931471805599453, 'my': 0.0, 'on': 0.0, 'sat': 0.0}\n"
     ]
    }
   ],
   "source": [
    "idfs = computeIDF([word_dictA, word_dictB])\n",
    "print('\\n IDF 결과:\\n', idfs)"
   ]
  },
  {
   "cell_type": "markdown",
   "metadata": {},
   "source": [
    "----------------------------------\n",
    "### TF-IDF : TF * IDF"
   ]
  },
  {
   "cell_type": "code",
   "execution_count": 170,
   "metadata": {},
   "outputs": [],
   "source": [
    "def computeTFIDF(tfBow, idfs):\n",
    "    tfidf = {}\n",
    "    for word, val in tfBow.items():\n",
    "        tfidf[word] = val * idfs[word]\n",
    "    return tfidf"
   ]
  },
  {
   "cell_type": "code",
   "execution_count": 172,
   "metadata": {},
   "outputs": [],
   "source": [
    "tfidfBowA = computeTFIDF(tfBowA, idfs)\n",
    "tfidfBowB = computeTFIDF(tfBowB, idfs)"
   ]
  },
  {
   "cell_type": "code",
   "execution_count": 162,
   "metadata": {},
   "outputs": [
    {
     "data": {
      "text/html": [
       "<div>\n",
       "<style scoped>\n",
       "    .dataframe tbody tr th:only-of-type {\n",
       "        vertical-align: middle;\n",
       "    }\n",
       "\n",
       "    .dataframe tbody tr th {\n",
       "        vertical-align: top;\n",
       "    }\n",
       "\n",
       "    .dataframe thead th {\n",
       "        text-align: right;\n",
       "    }\n",
       "</style>\n",
       "<table border=\"1\" class=\"dataframe\">\n",
       "  <thead>\n",
       "    <tr style=\"text-align: right;\">\n",
       "      <th></th>\n",
       "      <th>The</th>\n",
       "      <th>bed</th>\n",
       "      <th>cat</th>\n",
       "      <th>dog</th>\n",
       "      <th>face</th>\n",
       "      <th>my</th>\n",
       "      <th>on</th>\n",
       "      <th>sat</th>\n",
       "    </tr>\n",
       "  </thead>\n",
       "  <tbody>\n",
       "    <tr>\n",
       "      <th>0</th>\n",
       "      <td>0.0</td>\n",
       "      <td>0.000000</td>\n",
       "      <td>0.115525</td>\n",
       "      <td>0.000000</td>\n",
       "      <td>0.115525</td>\n",
       "      <td>0.0</td>\n",
       "      <td>0.0</td>\n",
       "      <td>0.0</td>\n",
       "    </tr>\n",
       "    <tr>\n",
       "      <th>1</th>\n",
       "      <td>0.0</td>\n",
       "      <td>0.115525</td>\n",
       "      <td>0.000000</td>\n",
       "      <td>0.115525</td>\n",
       "      <td>0.000000</td>\n",
       "      <td>0.0</td>\n",
       "      <td>0.0</td>\n",
       "      <td>0.0</td>\n",
       "    </tr>\n",
       "  </tbody>\n",
       "</table>\n",
       "</div>"
      ],
      "text/plain": [
       "   The       bed       cat       dog      face   my   on  sat\n",
       "0  0.0  0.000000  0.115525  0.000000  0.115525  0.0  0.0  0.0\n",
       "1  0.0  0.115525  0.000000  0.115525  0.000000  0.0  0.0  0.0"
      ]
     },
     "execution_count": 162,
     "metadata": {},
     "output_type": "execute_result"
    }
   ],
   "source": [
    "import pandas as pd\n",
    "pd.DataFrame([tfidfBowA, tfidfBowB])"
   ]
  },
  {
   "cell_type": "markdown",
   "metadata": {},
   "source": [
    "https://www.youtube.com/watch?v=hXNbFNCgPfY"
   ]
  }
 ],
 "metadata": {
  "kernelspec": {
   "display_name": "pastel",
   "language": "python",
   "name": "pastel"
  },
  "language_info": {
   "codemirror_mode": {
    "name": "ipython",
    "version": 3
   },
   "file_extension": ".py",
   "mimetype": "text/x-python",
   "name": "python",
   "nbconvert_exporter": "python",
   "pygments_lexer": "ipython3",
   "version": "3.6.7"
  }
 },
 "nbformat": 4,
 "nbformat_minor": 2
}
