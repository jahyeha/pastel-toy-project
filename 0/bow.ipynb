{
 "cells": [
  {
   "cell_type": "markdown",
   "metadata": {},
   "source": [
    "## Bag of Words (BOW)"
   ]
  },
  {
   "cell_type": "code",
   "execution_count": 1,
   "metadata": {},
   "outputs": [
    {
     "name": "stdout",
     "output_type": "stream",
     "text": [
      "입력 > Hello, my name is Pastel. Pastel has beautiful color\n",
      "\n",
      "* input sentence: Hello, my name is Pastel. Pastel has beautiful color\n",
      " \t↓\n",
      "* lowered sentence: hello, my name is pastel. pastel has beautiful color\n",
      " \t↓\n",
      "* splitted sentence:  ['hello', 'my', 'name', 'is', 'pastel', 'pastel', 'has', 'beautiful', 'color']\n",
      "\n",
      "--------------------------------------\n",
      "\n",
      "word:  hello\n",
      "\t {'hello': 0}\n",
      "\t [1] \n",
      "\n",
      "word:  my\n",
      "\t {'hello': 0, 'my': 1}\n",
      "\t [1, 1] \n",
      "\n",
      "word:  name\n",
      "\t {'hello': 0, 'my': 1, 'name': 2}\n",
      "\t [1, 1, 1] \n",
      "\n",
      "word:  is\n",
      "\t {'hello': 0, 'my': 1, 'name': 2, 'is': 3}\n",
      "\t [1, 1, 1, 1] \n",
      "\n",
      "word:  pastel\n",
      "\t {'hello': 0, 'my': 1, 'name': 2, 'is': 3, 'pastel': 4}\n",
      "\t [1, 1, 1, 1, 1] \n",
      "\n",
      "word:  pastel\n",
      "\t {'hello': 0, 'my': 1, 'name': 2, 'is': 3, 'pastel': 4}\n",
      "\t [1, 1, 1, 1, 2] \n",
      "\n",
      "word:  has\n",
      "\t {'hello': 0, 'my': 1, 'name': 2, 'is': 3, 'pastel': 4, 'has': 5}\n",
      "\t [1, 1, 1, 1, 2, 1] \n",
      "\n",
      "word:  beautiful\n",
      "\t {'hello': 0, 'my': 1, 'name': 2, 'is': 3, 'pastel': 4, 'has': 5, 'beautiful': 6}\n",
      "\t [1, 1, 1, 1, 2, 1, 1] \n",
      "\n",
      "word:  color\n",
      "\t {'hello': 0, 'my': 1, 'name': 2, 'is': 3, 'pastel': 4, 'has': 5, 'beautiful': 6, 'color': 7}\n",
      "\t [1, 1, 1, 1, 2, 1, 1, 1] \n",
      "\n",
      "\n",
      "=============Answer=============\n",
      "{'hello': 0, 'my': 1, 'name': 2, 'is': 3, 'pastel': 4, 'has': 5, 'beautiful': 6, 'color': 7}\n",
      "[1, 1, 1, 1, 2, 1, 1, 1]\n"
     ]
    }
   ],
   "source": [
    "import re\n",
    "\n",
    "def main():\n",
    "    sentence = input(\"입력 > \")\n",
    "    BOW_dict, BOW = create_BOW(sentence)\n",
    "    print(\"\\n=============Answer=============\")\n",
    "    print(BOW_dict)\n",
    "    print(BOW)\n",
    "\n",
    "def create_BOW(sentence):\n",
    "    # test sentence = \"Hello, my name is Pastel. Pastel has beautiful colors. What's your name?\"\n",
    "    print('\\n* input sentence: {}\\n'.format(sentence), '\\t↓')\n",
    "    bow_dict = {}\n",
    "    bow = []\n",
    "    s = sentence.lower()\n",
    "    print(\"* lowered sentence: {}\\n\".format(s), '\\t↓')\n",
    "    splitted = re.sub(r'[^a-z]+', ' ', s).split() \n",
    "    print(\"* splitted sentence: \", splitted)\n",
    "    \n",
    "    cnt = 0\n",
    "    print(\"\\n--------------------------------------\\n\")\n",
    "    for word in splitted:\n",
    "        print(\"word: \", word)\n",
    "        if len(word) < 1: \n",
    "            continue\n",
    "        if word not in bow_dict:\n",
    "            bow_dict[word] = cnt\n",
    "            bow.append(0)\n",
    "            cnt += 1\n",
    "        bow[bow_dict[word]] += 1\n",
    "        print('\\t', bow_dict)\n",
    "        print('\\t', bow, '\\n')\n",
    "    return bow_dict, bow\n",
    "\n",
    "if __name__ == \"__main__\":\n",
    "    main()"
   ]
  },
  {
   "cell_type": "markdown",
   "metadata": {},
   "source": [
    "----------------------------------------------\n",
    "## Bag of Words - Practice"
   ]
  },
  {
   "cell_type": "code",
   "execution_count": null,
   "metadata": {},
   "outputs": [],
   "source": [
    "import re\n",
    "\n",
    "def main():\n",
    "    sentence = input(\"입력 > \")\n",
    "    BOW_dict, BOW = create_BOW(sentence)\n",
    "    print(\"\\n=============Answer=============\")\n",
    "    print(BOW_dict)\n",
    "    print(BOW)\n",
    "\n",
    "def create_BOW(sentence):\n",
    "    '''\n",
    "    bow_dict과 bow를 return하는 create_BOW 함수를 완성해보세요!\n",
    "    '''\n",
    "    \n",
    "    \n",
    "    return bow_dict, bow\n",
    "\n",
    "if __name__ == \"__main__\":\n",
    "    main()"
   ]
  }
 ],
 "metadata": {
  "kernelspec": {
   "display_name": "Python 3",
   "language": "python",
   "name": "python3"
  },
  "language_info": {
   "codemirror_mode": {
    "name": "ipython",
    "version": 3
   },
   "file_extension": ".py",
   "mimetype": "text/x-python",
   "name": "python",
   "nbconvert_exporter": "python",
   "pygments_lexer": "ipython3",
   "version": "3.6.5"
  }
 },
 "nbformat": 4,
 "nbformat_minor": 2
}
